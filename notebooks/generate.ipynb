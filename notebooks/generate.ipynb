{
 "cells": [
  {
   "cell_type": "code",
   "execution_count": null,
   "metadata": {},
   "outputs": [],
   "source": [
    "import random\n",
    "import os\n",
    "import numpy as np\n",
    "from datasets import load_dataset\n",
    "import torch\n",
    "import note_seq\n",
    "import sys\n",
    "sys.path.append(\"..\")\n",
    "from source.tokenizer import Tokenizer\n",
    "from source.transformer import Transformer\n",
    "from source.noteseqhelpers import token_sequence_to_note_sequence"
   ]
  },
  {
   "cell_type": "code",
   "execution_count": null,
   "metadata": {},
   "outputs": [],
   "source": [
    "dataset_id = \"TristanBehrens/js-fakes-4bars\"\n",
    "model_path = \"../models/transformer_variational_20230930-1235\"\n",
    "assert os.path.exists(model_path), \"Model path does not exist.\""
   ]
  },
  {
   "cell_type": "code",
   "execution_count": null,
   "metadata": {},
   "outputs": [],
   "source": [
    "# Load the dataset.\n",
    "split_dataset = load_dataset(dataset_id)\n",
    "\n",
    "def random_sample():\n",
    "    # Select a random sample.\n",
    "    random_index = random.randint(0, len(split_dataset[\"test\"]) - 1)\n",
    "    return split_dataset[\"test\"][random_index][\"text\"]\n",
    "\n",
    "random_sample()"
   ]
  },
  {
   "cell_type": "code",
   "execution_count": null,
   "metadata": {},
   "outputs": [],
   "source": [
    "# Load the tokenizer.\n",
    "tokenizer = Tokenizer.from_config_file(os.path.join(model_path, \"tokenizer.json\"))\n",
    "print(tokenizer.vocabulary)"
   ]
  },
  {
   "cell_type": "code",
   "execution_count": null,
   "metadata": {},
   "outputs": [],
   "source": [
    "# Load the model.\n",
    "model = Transformer.load(os.path.join(model_path, \"ckpt.pt\"))"
   ]
  },
  {
   "cell_type": "code",
   "execution_count": null,
   "metadata": {},
   "outputs": [],
   "source": [
    "# Sample from a normal distribution.\n",
    "bottleneck_shape = model.get_bottleneck_shape()\n",
    "bottleneck_z = torch.randn(1, *bottleneck_shape)\n",
    "print(f\"bottleneck shape: {bottleneck_shape}, numbers {np.prod(bottleneck_shape)}\")\n",
    "\n",
    "# Create the start sequence.\n",
    "start_sequence = \"PIECE_START\"\n",
    "start_sequence_indices = tokenizer.encode_sequence(start_sequence)\n",
    "print(f\"Start sequence: {start_sequence}\")\n",
    "print(f\"Start sequence indices: {start_sequence_indices}\")\n",
    "\n",
    "result_ids = model.generate(\n",
    "    idx=start_sequence_indices,\n",
    "    max_new_tokens=512,\n",
    "    end_token_id=tokenizer.encode_token(\"TRACK_END\"),\n",
    "    bottleneck_condition=bottleneck_z, \n",
    "    temperature=0.2,\n",
    "    top_k=None\n",
    ")[0]\n",
    "print(f\"Result ids: {result_ids}\")\n",
    "\n",
    "result_sequence = tokenizer.decode_sequence(result_ids, join=True)\n",
    "print(f\"Result sequence: {result_sequence}\")\n",
    "\n",
    "note_sequence = token_sequence_to_note_sequence(result_sequence)\n",
    "note_seq.plot_sequence(note_sequence)\n",
    "note_seq.play_sequence(note_sequence, synth=note_seq.fluidsynth)"
   ]
  },
  {
   "cell_type": "code",
   "execution_count": null,
   "metadata": {},
   "outputs": [],
   "source": []
  }
 ],
 "metadata": {
  "kernelspec": {
   "display_name": "base",
   "language": "python",
   "name": "python3"
  },
  "language_info": {
   "codemirror_mode": {
    "name": "ipython",
    "version": 3
   },
   "file_extension": ".py",
   "mimetype": "text/x-python",
   "name": "python",
   "nbconvert_exporter": "python",
   "pygments_lexer": "ipython3",
   "version": "3.9.10"
  },
  "orig_nbformat": 4
 },
 "nbformat": 4,
 "nbformat_minor": 2
}
